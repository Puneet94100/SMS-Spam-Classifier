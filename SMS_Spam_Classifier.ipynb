{
  "nbformat": 4,
  "nbformat_minor": 0,
  "metadata": {
    "colab": {
      "provenance": []
    },
    "kernelspec": {
      "name": "python3",
      "display_name": "Python 3"
    },
    "language_info": {
      "name": "python"
    }
  },
  "cells": [
    {
      "cell_type": "markdown",
      "source": [
        "# SMS Spam Classifier"
      ],
      "metadata": {
        "id": "uJmyYRiFkIf7"
      }
    },
    {
      "cell_type": "markdown",
      "source": [
        "![scam.png](data:image/png;base64,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)"
      ],
      "metadata": {
        "id": "iCuLoRiIvkcH"
      }
    },
    {
      "cell_type": "markdown",
      "source": [
        "# Import libraries"
      ],
      "metadata": {
        "id": "aRF0r4KNix82"
      }
    },
    {
      "cell_type": "code",
      "execution_count": null,
      "metadata": {
        "colab": {
          "base_uri": "https://localhost:8080/"
        },
        "id": "wN9JGVvTVBnh",
        "outputId": "df5ce8f4-0c96-4c22-9373-92b38e46a03d"
      },
      "outputs": [
        {
          "output_type": "stream",
          "name": "stderr",
          "text": [
            "[nltk_data] Downloading package stopwords to /root/nltk_data...\n",
            "[nltk_data]   Package stopwords is already up-to-date!\n",
            "[nltk_data] Downloading package wordnet to /root/nltk_data...\n",
            "[nltk_data]   Package wordnet is already up-to-date!\n",
            "[nltk_data] Downloading package punkt to /root/nltk_data...\n",
            "[nltk_data]   Package punkt is already up-to-date!\n",
            "[nltk_data] Downloading package omw-1.4 to /root/nltk_data...\n",
            "[nltk_data]   Package omw-1.4 is already up-to-date!\n"
          ]
        },
        {
          "output_type": "execute_result",
          "data": {
            "text/plain": [
              "True"
            ]
          },
          "metadata": {},
          "execution_count": 32
        }
      ],
      "source": [
        "import nltk\n",
        "import re\n",
        "import string\n",
        "import pandas as pd\n",
        "\n",
        "from nltk.corpus import stopwords\n",
        "from nltk.stem import PorterStemmer\n",
        "from nltk.stem import WordNetLemmatizer\n",
        "\n",
        "nltk.download('stopwords')\n",
        "nltk.download('wordnet')\n",
        "nltk.download('punkt')\n",
        "nltk.download('omw-1.4')"
      ]
    },
    {
      "cell_type": "code",
      "source": [
        "# unzip the data\n",
        "\n",
        "# !unzip /content/drive/MyDrive/NLP/smsspamcollection.zip -d /content/drive/MyDrive/NLP"
      ],
      "metadata": {
        "colab": {
          "base_uri": "https://localhost:8080/"
        },
        "id": "3ymgw8b6WOUP",
        "outputId": "7dcd0dd0-a31d-4cb4-dd64-ce1ad8cbafa9"
      },
      "execution_count": null,
      "outputs": [
        {
          "output_type": "stream",
          "name": "stdout",
          "text": [
            "Archive:  /content/drive/MyDrive/NLP/smsspamcollection.zip\n",
            "  inflating: /content/drive/MyDrive/NLP/SMSSpamCollection  \n",
            "  inflating: /content/drive/MyDrive/NLP/readme  \n"
          ]
        }
      ]
    },
    {
      "cell_type": "markdown",
      "source": [
        "# Read the data set"
      ],
      "metadata": {
        "id": "WF6LoErii3KE"
      }
    },
    {
      "cell_type": "code",
      "source": [
        "# read  the data\n",
        "\n",
        "message=pd.read_csv('/content/drive/MyDrive/NLP/SMSSpamCollection', sep='\\t',names=['label','message'])\n",
        "\n",
        "message"
      ],
      "metadata": {
        "colab": {
          "base_uri": "https://localhost:8080/",
          "height": 424
        },
        "id": "ovCEWj2RVRbg",
        "outputId": "5112c5de-1e85-4906-eb5f-0bff099d76fc"
      },
      "execution_count": null,
      "outputs": [
        {
          "output_type": "execute_result",
          "data": {
            "text/plain": [
              "     label                                            message\n",
              "0      ham  Go until jurong point, crazy.. Available only ...\n",
              "1      ham                      Ok lar... Joking wif u oni...\n",
              "2     spam  Free entry in 2 a wkly comp to win FA Cup fina...\n",
              "3      ham  U dun say so early hor... U c already then say...\n",
              "4      ham  Nah I don't think he goes to usf, he lives aro...\n",
              "...    ...                                                ...\n",
              "5567  spam  This is the 2nd time we have tried 2 contact u...\n",
              "5568   ham               Will ü b going to esplanade fr home?\n",
              "5569   ham  Pity, * was in mood for that. So...any other s...\n",
              "5570   ham  The guy did some bitching but I acted like i'd...\n",
              "5571   ham                         Rofl. Its true to its name\n",
              "\n",
              "[5572 rows x 2 columns]"
            ],
            "text/html": [
              "\n",
              "  <div id=\"df-fcb22fe3-72ea-46c9-99e8-be6ed0c1c361\">\n",
              "    <div class=\"colab-df-container\">\n",
              "      <div>\n",
              "<style scoped>\n",
              "    .dataframe tbody tr th:only-of-type {\n",
              "        vertical-align: middle;\n",
              "    }\n",
              "\n",
              "    .dataframe tbody tr th {\n",
              "        vertical-align: top;\n",
              "    }\n",
              "\n",
              "    .dataframe thead th {\n",
              "        text-align: right;\n",
              "    }\n",
              "</style>\n",
              "<table border=\"1\" class=\"dataframe\">\n",
              "  <thead>\n",
              "    <tr style=\"text-align: right;\">\n",
              "      <th></th>\n",
              "      <th>label</th>\n",
              "      <th>message</th>\n",
              "    </tr>\n",
              "  </thead>\n",
              "  <tbody>\n",
              "    <tr>\n",
              "      <th>0</th>\n",
              "      <td>ham</td>\n",
              "      <td>Go until jurong point, crazy.. Available only ...</td>\n",
              "    </tr>\n",
              "    <tr>\n",
              "      <th>1</th>\n",
              "      <td>ham</td>\n",
              "      <td>Ok lar... Joking wif u oni...</td>\n",
              "    </tr>\n",
              "    <tr>\n",
              "      <th>2</th>\n",
              "      <td>spam</td>\n",
              "      <td>Free entry in 2 a wkly comp to win FA Cup fina...</td>\n",
              "    </tr>\n",
              "    <tr>\n",
              "      <th>3</th>\n",
              "      <td>ham</td>\n",
              "      <td>U dun say so early hor... U c already then say...</td>\n",
              "    </tr>\n",
              "    <tr>\n",
              "      <th>4</th>\n",
              "      <td>ham</td>\n",
              "      <td>Nah I don't think he goes to usf, he lives aro...</td>\n",
              "    </tr>\n",
              "    <tr>\n",
              "      <th>...</th>\n",
              "      <td>...</td>\n",
              "      <td>...</td>\n",
              "    </tr>\n",
              "    <tr>\n",
              "      <th>5567</th>\n",
              "      <td>spam</td>\n",
              "      <td>This is the 2nd time we have tried 2 contact u...</td>\n",
              "    </tr>\n",
              "    <tr>\n",
              "      <th>5568</th>\n",
              "      <td>ham</td>\n",
              "      <td>Will ü b going to esplanade fr home?</td>\n",
              "    </tr>\n",
              "    <tr>\n",
              "      <th>5569</th>\n",
              "      <td>ham</td>\n",
              "      <td>Pity, * was in mood for that. So...any other s...</td>\n",
              "    </tr>\n",
              "    <tr>\n",
              "      <th>5570</th>\n",
              "      <td>ham</td>\n",
              "      <td>The guy did some bitching but I acted like i'd...</td>\n",
              "    </tr>\n",
              "    <tr>\n",
              "      <th>5571</th>\n",
              "      <td>ham</td>\n",
              "      <td>Rofl. Its true to its name</td>\n",
              "    </tr>\n",
              "  </tbody>\n",
              "</table>\n",
              "<p>5572 rows × 2 columns</p>\n",
              "</div>\n",
              "      <button class=\"colab-df-convert\" onclick=\"convertToInteractive('df-fcb22fe3-72ea-46c9-99e8-be6ed0c1c361')\"\n",
              "              title=\"Convert this dataframe to an interactive table.\"\n",
              "              style=\"display:none;\">\n",
              "        \n",
              "  <svg xmlns=\"http://www.w3.org/2000/svg\" height=\"24px\"viewBox=\"0 0 24 24\"\n",
              "       width=\"24px\">\n",
              "    <path d=\"M0 0h24v24H0V0z\" fill=\"none\"/>\n",
              "    <path d=\"M18.56 5.44l.94 2.06.94-2.06 2.06-.94-2.06-.94-.94-2.06-.94 2.06-2.06.94zm-11 1L8.5 8.5l.94-2.06 2.06-.94-2.06-.94L8.5 2.5l-.94 2.06-2.06.94zm10 10l.94 2.06.94-2.06 2.06-.94-2.06-.94-.94-2.06-.94 2.06-2.06.94z\"/><path d=\"M17.41 7.96l-1.37-1.37c-.4-.4-.92-.59-1.43-.59-.52 0-1.04.2-1.43.59L10.3 9.45l-7.72 7.72c-.78.78-.78 2.05 0 2.83L4 21.41c.39.39.9.59 1.41.59.51 0 1.02-.2 1.41-.59l7.78-7.78 2.81-2.81c.8-.78.8-2.07 0-2.86zM5.41 20L4 18.59l7.72-7.72 1.47 1.35L5.41 20z\"/>\n",
              "  </svg>\n",
              "      </button>\n",
              "      \n",
              "  <style>\n",
              "    .colab-df-container {\n",
              "      display:flex;\n",
              "      flex-wrap:wrap;\n",
              "      gap: 12px;\n",
              "    }\n",
              "\n",
              "    .colab-df-convert {\n",
              "      background-color: #E8F0FE;\n",
              "      border: none;\n",
              "      border-radius: 50%;\n",
              "      cursor: pointer;\n",
              "      display: none;\n",
              "      fill: #1967D2;\n",
              "      height: 32px;\n",
              "      padding: 0 0 0 0;\n",
              "      width: 32px;\n",
              "    }\n",
              "\n",
              "    .colab-df-convert:hover {\n",
              "      background-color: #E2EBFA;\n",
              "      box-shadow: 0px 1px 2px rgba(60, 64, 67, 0.3), 0px 1px 3px 1px rgba(60, 64, 67, 0.15);\n",
              "      fill: #174EA6;\n",
              "    }\n",
              "\n",
              "    [theme=dark] .colab-df-convert {\n",
              "      background-color: #3B4455;\n",
              "      fill: #D2E3FC;\n",
              "    }\n",
              "\n",
              "    [theme=dark] .colab-df-convert:hover {\n",
              "      background-color: #434B5C;\n",
              "      box-shadow: 0px 1px 3px 1px rgba(0, 0, 0, 0.15);\n",
              "      filter: drop-shadow(0px 1px 2px rgba(0, 0, 0, 0.3));\n",
              "      fill: #FFFFFF;\n",
              "    }\n",
              "  </style>\n",
              "\n",
              "      <script>\n",
              "        const buttonEl =\n",
              "          document.querySelector('#df-fcb22fe3-72ea-46c9-99e8-be6ed0c1c361 button.colab-df-convert');\n",
              "        buttonEl.style.display =\n",
              "          google.colab.kernel.accessAllowed ? 'block' : 'none';\n",
              "\n",
              "        async function convertToInteractive(key) {\n",
              "          const element = document.querySelector('#df-fcb22fe3-72ea-46c9-99e8-be6ed0c1c361');\n",
              "          const dataTable =\n",
              "            await google.colab.kernel.invokeFunction('convertToInteractive',\n",
              "                                                     [key], {});\n",
              "          if (!dataTable) return;\n",
              "\n",
              "          const docLinkHtml = 'Like what you see? Visit the ' +\n",
              "            '<a target=\"_blank\" href=https://colab.research.google.com/notebooks/data_table.ipynb>data table notebook</a>'\n",
              "            + ' to learn more about interactive tables.';\n",
              "          element.innerHTML = '';\n",
              "          dataTable['output_type'] = 'display_data';\n",
              "          await google.colab.output.renderOutput(dataTable, element);\n",
              "          const docLink = document.createElement('div');\n",
              "          docLink.innerHTML = docLinkHtml;\n",
              "          element.appendChild(docLink);\n",
              "        }\n",
              "      </script>\n",
              "    </div>\n",
              "  </div>\n",
              "  "
            ]
          },
          "metadata": {},
          "execution_count": 12
        }
      ]
    },
    {
      "cell_type": "markdown",
      "source": [
        "# Data cleaning & Data processing\n",
        "\n",
        "\n",
        "- Remove punctuation\n",
        "- Lower the text\n",
        "- Remove stopwords\n",
        "- lemmatize the words\n",
        "- convert text into vectors using different different techniques like Bag of words , TF-IDF"
      ],
      "metadata": {
        "id": "dyS7ZQ0nXn6u"
      }
    },
    {
      "cell_type": "code",
      "source": [
        "# see the complete text\n",
        "pd.set_option('display.max_colwidth',None)\n",
        "message['message'][10]"
      ],
      "metadata": {
        "colab": {
          "base_uri": "https://localhost:8080/",
          "height": 35
        },
        "id": "3Vj7EIk7Wk5W",
        "outputId": "08e01009-bd05-4599-8b8a-fbc9c215cb6e"
      },
      "execution_count": null,
      "outputs": [
        {
          "output_type": "execute_result",
          "data": {
            "text/plain": [
              "\"I'm gonna be home soon and i don't want to talk about this stuff anymore tonight, k? I've cried enough today.\""
            ],
            "application/vnd.google.colaboratory.intrinsic+json": {
              "type": "string"
            }
          },
          "metadata": {},
          "execution_count": 20
        }
      ]
    },
    {
      "cell_type": "code",
      "source": [
        "# creating the object for lemmatizer\n",
        "\n",
        "lemmatizer=WordNetLemmatizer()"
      ],
      "metadata": {
        "id": "_Yu3qWeNZW5H"
      },
      "execution_count": null,
      "outputs": []
    },
    {
      "cell_type": "code",
      "source": [
        "# creating empty list\n",
        "new_message=[]\n",
        "\n",
        "# run afor loop to iterate message column\n",
        "for i in range(len(message)):\n",
        "  # remove the stopwords\n",
        "  review= re.sub('[^a-zA-Z]',' ', message['message'][i])\n",
        "  # lower the text\n",
        "  review= review.lower()\n",
        "\n",
        "  # split the text into loist of words\n",
        "  review=nltk.word_tokenize(review)\n",
        "\n",
        "  # lemmatize words to covert into base form\n",
        "  lemmatized= [lemmatizer.lemmatize(word) for word in review if word not in stopwords.words('english')]\n",
        "\n",
        "  # append the lemmatize words after joining into sentences\n",
        "  new_message.append(' '.join(lemmatized))\n",
        "\n"
      ],
      "metadata": {
        "id": "VLqG0oQdXvYu"
      },
      "execution_count": null,
      "outputs": []
    },
    {
      "cell_type": "markdown",
      "source": [
        "## Convert text into vectors\n",
        "- Using Bag of Words technique"
      ],
      "metadata": {
        "id": "EP6VtCw4jsa7"
      }
    },
    {
      "cell_type": "code",
      "source": [
        "# convert text into vectors\n",
        "\n",
        "from sklearn.feature_extraction.text import  CountVectorizer\n",
        "\n",
        "cv=CountVectorizer(max_features=5000)\n",
        "\n",
        "X=cv.fit_transform(new_message).toarray()"
      ],
      "metadata": {
        "id": "yp0g2WQxaHrO"
      },
      "execution_count": null,
      "outputs": []
    },
    {
      "cell_type": "code",
      "source": [
        "# convert the label column into numerical values\n",
        "\n",
        "y=pd.get_dummies(message['label'])\n",
        "y=y.iloc[:,1]"
      ],
      "metadata": {
        "id": "yN8-oWeEa0lW"
      },
      "execution_count": null,
      "outputs": []
    },
    {
      "cell_type": "code",
      "source": [
        "# split the data into train and test data set\n",
        "from sklearn.model_selection import train_test_split\n",
        "\n",
        "X_train,X_test, y_train,y_test= train_test_split(X,y, test_size=0.25,random_state=1)"
      ],
      "metadata": {
        "id": "x6pmXOmogDj1"
      },
      "execution_count": null,
      "outputs": []
    },
    {
      "cell_type": "code",
      "source": [
        "X_train.shape, X_test.shape"
      ],
      "metadata": {
        "colab": {
          "base_uri": "https://localhost:8080/"
        },
        "id": "JJ7WaC98gfMU",
        "outputId": "77f73959-f809-4d28-ba01-8c4c3c0d95f6"
      },
      "execution_count": null,
      "outputs": [
        {
          "output_type": "execute_result",
          "data": {
            "text/plain": [
              "((4179, 5000), (1393, 5000))"
            ]
          },
          "metadata": {},
          "execution_count": 57
        }
      ]
    },
    {
      "cell_type": "markdown",
      "source": [
        "# Build the model"
      ],
      "metadata": {
        "id": "P-KCKmRVj_7L"
      }
    },
    {
      "cell_type": "code",
      "source": [
        "# Build the model\n",
        "\n",
        "from sklearn.naive_bayes import MultinomialNB\n",
        "\n",
        "naive=MultinomialNB()\n",
        "\n",
        "naive.fit(X_train,y_train)"
      ],
      "metadata": {
        "colab": {
          "base_uri": "https://localhost:8080/"
        },
        "id": "v8uyw0xkhFOL",
        "outputId": "e16539f5-554f-40c9-bf33-77de5768f378"
      },
      "execution_count": null,
      "outputs": [
        {
          "output_type": "execute_result",
          "data": {
            "text/plain": [
              "MultinomialNB()"
            ]
          },
          "metadata": {},
          "execution_count": 58
        }
      ]
    },
    {
      "cell_type": "code",
      "source": [
        "# predict the output\n",
        "y_pred=naive.predict(X_test)"
      ],
      "metadata": {
        "id": "2ws-lBMehmcU"
      },
      "execution_count": null,
      "outputs": []
    },
    {
      "cell_type": "markdown",
      "source": [
        "# Evaluate the model"
      ],
      "metadata": {
        "id": "3vWbYen6kDVS"
      }
    },
    {
      "cell_type": "code",
      "source": [
        "# Evaluation metrics\n",
        "\n",
        "from sklearn.metrics import accuracy_score, confusion_matrix, classification_report"
      ],
      "metadata": {
        "id": "IMtzVf8ihryD"
      },
      "execution_count": null,
      "outputs": []
    },
    {
      "cell_type": "code",
      "source": [
        "accuracy_score(y_test, y_pred)"
      ],
      "metadata": {
        "colab": {
          "base_uri": "https://localhost:8080/"
        },
        "id": "EWG2g_J1h7Y7",
        "outputId": "aef63034-1651-478d-94d7-e8ad2183a586"
      },
      "execution_count": null,
      "outputs": [
        {
          "output_type": "execute_result",
          "data": {
            "text/plain": [
              "0.9820531227566404"
            ]
          },
          "metadata": {},
          "execution_count": 65
        }
      ]
    },
    {
      "cell_type": "code",
      "source": [
        "confusion_matrix(y_test,y_pred)"
      ],
      "metadata": {
        "colab": {
          "base_uri": "https://localhost:8080/"
        },
        "id": "8Zg5wuiCiGvz",
        "outputId": "7b6d3c10-af5b-44fd-a13b-75e3c85b3b4f"
      },
      "execution_count": null,
      "outputs": [
        {
          "output_type": "execute_result",
          "data": {
            "text/plain": [
              "array([[1192,   16],\n",
              "       [   9,  176]])"
            ]
          },
          "metadata": {},
          "execution_count": 66
        }
      ]
    },
    {
      "cell_type": "code",
      "source": [
        "print(classification_report(y_test,y_pred))"
      ],
      "metadata": {
        "colab": {
          "base_uri": "https://localhost:8080/"
        },
        "id": "ndlQqVbniLwr",
        "outputId": "8d74db1b-19b1-4d23-b84e-70b5f0dcb357"
      },
      "execution_count": null,
      "outputs": [
        {
          "output_type": "stream",
          "name": "stdout",
          "text": [
            "              precision    recall  f1-score   support\n",
            "\n",
            "           0       0.99      0.99      0.99      1208\n",
            "           1       0.92      0.95      0.93       185\n",
            "\n",
            "    accuracy                           0.98      1393\n",
            "   macro avg       0.95      0.97      0.96      1393\n",
            "weighted avg       0.98      0.98      0.98      1393\n",
            "\n"
          ]
        }
      ]
    },
    {
      "cell_type": "code",
      "source": [],
      "metadata": {
        "id": "uwvwFtMuiST7"
      },
      "execution_count": null,
      "outputs": []
    }
  ]
}